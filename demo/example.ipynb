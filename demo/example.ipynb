{
 "cells": [
  {
   "cell_type": "code",
   "execution_count": 3,
   "metadata": {},
   "outputs": [],
   "source": [
    "import scipy.io as io\n",
    "import numpy as np\n",
    "import matplotlib.pyplot as plt\n",
    "from sklearn.metrics import accuracy_score\n",
    "from sklearn.metrics import confusion_matrix\n",
    "import keras"
   ]
  },
  {
   "cell_type": "code",
   "execution_count": 4,
   "metadata": {},
   "outputs": [],
   "source": [
    "#load data and model\n",
    "x_test_series_mat = io.loadmat('x_test_series.mat')\n",
    "x_test_series = x_test_series_mat['x_test_series']\n",
    "model = keras.models.load_model('series_model.h5')"
   ]
  },
  {
   "cell_type": "code",
   "execution_count": 5,
   "metadata": {},
   "outputs": [
    {
     "name": "stdout",
     "output_type": "stream",
     "text": [
      "                  precision    recall  f1-score   support\n",
      "\n",
      "      earthquake       0.95      0.92      0.93       116\n",
      "micro-earthquake       0.84      0.74      0.79        70\n",
      "        rockfall       0.91      0.92      0.91       120\n",
      "enviroemnt noise       0.78      0.86      0.82       105\n",
      "\n",
      "        accuracy                           0.87       411\n",
      "       macro avg       0.87      0.86      0.86       411\n",
      "    weighted avg       0.88      0.87      0.87       411\n",
      "\n",
      "[[107   0   0   9]\n",
      " [  3  52   4  11]\n",
      " [  1   4 110   5]\n",
      " [  2   6   7  90]]\n"
     ]
    }
   ],
   "source": [
    "#result anlysis\n",
    "\n",
    "classes = model.predict(x_test_series, batch_size=12)\n",
    "lis=np.zeros(classes.shape[0])\n",
    "\n",
    "for i in range(classes.shape[0]):\n",
    " jeg = np.where(classes[i,:] == max(classes[i,:]))\n",
    " lis[i] = jeg[0]\n",
    "\n",
    "#testing labels\n",
    "s1=116 #seism\n",
    "s2=70 #quake\n",
    "s3=120 #rock\n",
    "s4=105 #noise\n",
    "tru=np.zeros(classes.shape[0])\n",
    "tru[:s1] = 0\n",
    "tru[s1:s1+s2] = 1\n",
    "tru[s1+s2:s1+s2+s3] = 2\n",
    "tru[s1+s2+s3:s1+s2+s3+s4] = 3\n",
    "\n",
    "from sklearn.metrics import classification_report\n",
    "target = ['earthquake','micro-earthquake','rockfall','enviroemnt noise']\n",
    "print(classification_report(tru, lis, target_names=target))\n",
    "print(confusion_matrix(tru, lis))"
   ]
  }
 ],
 "metadata": {
  "kernelspec": {
   "display_name": "Python 3",
   "language": "python",
   "name": "python3"
  },
  "language_info": {
   "codemirror_mode": {
    "name": "ipython",
    "version": 3
   },
   "file_extension": ".py",
   "mimetype": "text/x-python",
   "name": "python",
   "nbconvert_exporter": "python",
   "pygments_lexer": "ipython3",
   "version": "3.8.5"
  }
 },
 "nbformat": 4,
 "nbformat_minor": 4
}
