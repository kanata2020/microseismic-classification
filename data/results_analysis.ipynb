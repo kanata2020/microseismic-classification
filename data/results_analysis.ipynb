{
  "nbformat": 4,
  "nbformat_minor": 0,
  "metadata": {
    "colab": {
      "name": "results analysis.ipynb",
      "provenance": [],
      "collapsed_sections": []
    },
    "kernelspec": {
      "name": "python3",
      "display_name": "Python 3"
    },
    "language_info": {
      "name": "python"
    },
    "accelerator": "GPU"
  },
  "cells": [
    {
      "cell_type": "code",
      "metadata": {
        "id": "5hplwznmpCzp"
      },
      "source": [
        "#result anlysis\n",
        "import numpy as np\n",
        "import matplotlib.pyplot as plt\n",
        "from sklearn.metrics import accuracy_score\n",
        "from sklearn.metrics import confusion_matrix\n",
        "from sklearn.metrics import classification_report\n",
        "from tensorflow.keras import models"
      ],
      "execution_count": null,
      "outputs": []
    },
    {
      "cell_type": "code",
      "metadata": {
        "id": "2hi-pOuxqC3h",
        "colab": {
          "base_uri": "https://localhost:8080/"
        },
        "outputId": "feb9dbf7-145f-4938-cf9f-fa62158e6ddd"
      },
      "source": [
        "model=models.load_model('./models/timeseries_model.h5')\n",
        "x_test = np.load('./test/waveform_testset/x_test.npy')\n",
        "y_test = np.load('./test/waveform_testset/y_test.npy')\n",
        "\n",
        "classes = model.predict(x_test, batch_size=120)\n",
        "lis=np.zeros(classes.shape[0])\n",
        "\n",
        "for i in range(classes.shape[0]):\n",
        " jeg = np.where(classes[i,:] == max(classes[i,:]))\n",
        " lis[i] = jeg[0]\n",
        "\n",
        "tru=np.zeros(classes.shape[0])\n",
        "s1=123\n",
        "s2=125\n",
        "s3=72\n",
        "s4=108\n",
        "tru[:s1] = 0\n",
        "tru[s1:s1+s2] = 1\n",
        "tru[s1+s2:s1+s2+s3] = 2\n",
        "tru[s1+s2+s3:s1+s2+s3+s4] = 3\n",
        "\n",
        "target = ['earthquake','rockfall','micro-earthquake','enviroemnt noise']\n",
        "print(classification_report(tru, lis, target_names=target))\n",
        "print(confusion_matrix(tru, lis))"
      ],
      "execution_count": null,
      "outputs": [
        {
          "output_type": "stream",
          "name": "stdout",
          "text": [
            "                  precision    recall  f1-score   support\n",
            "\n",
            "      earthquake       0.90      0.99      0.94       123\n",
            "        rockfall       0.89      0.98      0.94       125\n",
            "micro-earthquake       0.96      0.74      0.83        72\n",
            "enviroemnt noise       0.86      0.79      0.82       108\n",
            "\n",
            "        accuracy                           0.89       428\n",
            "       macro avg       0.90      0.87      0.88       428\n",
            "    weighted avg       0.90      0.89      0.89       428\n",
            "\n",
            "[[122   0   0   1]\n",
            " [  0 123   0   2]\n",
            " [  3   5  53  11]\n",
            " [ 11  10   2  85]]\n"
          ]
        }
      ]
    },
    {
      "cell_type": "code",
      "metadata": {
        "id": "qIVREceArI4r",
        "colab": {
          "base_uri": "https://localhost:8080/"
        },
        "outputId": "e74e60fa-e632-4be5-cefd-644e470cbc41"
      },
      "source": [
        "model=models.load_model('./models/STFT_model.h5')\n",
        "x_test = np.load('./test/STFT_testset/x_test.npy')\n",
        "y_test = np.load('./test/STFT_testset/y_test.npy')\n",
        "\n",
        "classes = model.predict(x_test, batch_size=120)\n",
        "lis=np.zeros(classes.shape[0])\n",
        "\n",
        "for i in range(classes.shape[0]):\n",
        " jeg = np.where(classes[i,:] == max(classes[i,:]))\n",
        " lis[i] = jeg[0]\n",
        "\n",
        "tru=np.zeros(classes.shape[0])\n",
        "s1=123\n",
        "s2=125\n",
        "s3=72\n",
        "s4=108\n",
        "tru[:s1] = 0\n",
        "tru[s1:s1+s2] = 1\n",
        "tru[s1+s2:s1+s2+s3] = 2\n",
        "tru[s1+s2+s3:s1+s2+s3+s4] = 3\n",
        "\n",
        "target = ['earthquake','rockfall','micro-earthquake','enviroemnt noise']\n",
        "print(classification_report(tru, lis, target_names=target))\n",
        "print(confusion_matrix(tru, lis))"
      ],
      "execution_count": null,
      "outputs": [
        {
          "output_type": "stream",
          "name": "stdout",
          "text": [
            "                  precision    recall  f1-score   support\n",
            "\n",
            "      earthquake       0.97      0.98      0.97       123\n",
            "        rockfall       0.96      0.90      0.93       125\n",
            "micro-earthquake       0.82      0.76      0.79        72\n",
            "enviroemnt noise       0.79      0.88      0.83       108\n",
            "\n",
            "        accuracy                           0.89       428\n",
            "       macro avg       0.88      0.88      0.88       428\n",
            "    weighted avg       0.90      0.89      0.89       428\n",
            "\n",
            "[[120   0   1   2]\n",
            " [  0 112   3  10]\n",
            " [  2   2  55  13]\n",
            " [  2   3   8  95]]\n"
          ]
        }
      ]
    },
    {
      "cell_type": "code",
      "metadata": {
        "id": "c5CnNyLGrkOB",
        "colab": {
          "base_uri": "https://localhost:8080/"
        },
        "outputId": "2386aeb6-e332-407d-c83f-270036205a75"
      },
      "source": [
        "model=models.load_model('./models/CWT_model.h5')\n",
        "x_test = np.load('./test/CWT_testset/x_test.npy')\n",
        "y_test = np.load('./test/CWT_testset/y_test.npy')\n",
        "\n",
        "classes = model.predict(x_test, batch_size=120)\n",
        "lis=np.zeros(classes.shape[0])\n",
        "\n",
        "for i in range(classes.shape[0]):\n",
        " jeg = np.where(classes[i,:] == max(classes[i,:]))\n",
        " lis[i] = jeg[0]\n",
        "\n",
        "tru=np.zeros(classes.shape[0])\n",
        "s1=123\n",
        "s2=125\n",
        "s3=72\n",
        "s4=108\n",
        "tru[:s1] = 0\n",
        "tru[s1:s1+s2] = 1\n",
        "tru[s1+s2:s1+s2+s3] = 2\n",
        "tru[s1+s2+s3:s1+s2+s3+s4] = 3\n",
        "\n",
        "target = ['earthquake','rockfall','micro-earthquake','enviroemnt noise']\n",
        "print(classification_report(tru, lis, target_names=target))\n",
        "print(confusion_matrix(tru, lis))"
      ],
      "execution_count": null,
      "outputs": [
        {
          "output_type": "stream",
          "name": "stdout",
          "text": [
            "                  precision    recall  f1-score   support\n",
            "\n",
            "      earthquake       0.98      0.98      0.98       123\n",
            "        rockfall       0.92      0.93      0.92       125\n",
            "micro-earthquake       0.88      0.72      0.79        72\n",
            "enviroemnt noise       0.81      0.89      0.85       108\n",
            "\n",
            "        accuracy                           0.90       428\n",
            "       macro avg       0.90      0.88      0.89       428\n",
            "    weighted avg       0.90      0.90      0.90       428\n",
            "\n",
            "[[121   1   1   0]\n",
            " [  1 116   1   7]\n",
            " [  1   3  52  16]\n",
            " [  1   6   5  96]]\n"
          ]
        }
      ]
    }
  ]
}